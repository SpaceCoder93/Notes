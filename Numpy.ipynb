{
  "cells": [
    {
      "cell_type": "markdown",
      "id": "7f3b7de3-11f1-43c9-a7ee-2acfe54e76f4",
      "metadata": {
        "id": "7f3b7de3-11f1-43c9-a7ee-2acfe54e76f4"
      },
      "source": [
        "<center>\n",
        "  <img width=\"144\" height=\"144\" src=\"https://img.icons8.com/color/144/numpy.png\" alt=\"numpy\"></img>\n",
        "  <h1 style=\"text-align: center;\">NumPy</h1>\n",
        "</center>\n",
        "\n",
        "- Numpy is the fundamental package for scientific computing in python\n",
        "- It has fast computation\n",
        "- It provides a multidimentaional array objects\n",
        "- An array is a grid of values and it contains inforamtion about the raw data\n",
        "\n",
        "## Importance of Numpy\n",
        "- wide variety of mathematical operations on array\n",
        "- It supplies an enormous library of high level mathematical functions that operate on these arrays and matrices"
      ]
    },
    {
      "cell_type": "markdown",
      "id": "cb348e83-241e-4d7f-8ddd-dc13e333cc57",
      "metadata": {
        "id": "cb348e83-241e-4d7f-8ddd-dc13e333cc57"
      },
      "source": [
        "## Installing NumPy"
      ]
    },
    {
      "cell_type": "code",
      "execution_count": null,
      "id": "3764108a-84d5-44fa-8c22-931c589ac2da",
      "metadata": {
        "id": "3764108a-84d5-44fa-8c22-931c589ac2da",
        "outputId": "6ad67186-6bef-4484-ab23-75559f5785dd"
      },
      "outputs": [
        {
          "name": "stdout",
          "output_type": "stream",
          "text": [
            "Requirement already satisfied: numpy in f:\\python\\python311\\lib\\site-packages (1.26.2)\n",
            "Note: you may need to restart the kernel to use updated packages.\n"
          ]
        }
      ],
      "source": [
        "pip install numpy"
      ]
    },
    {
      "cell_type": "markdown",
      "source": [
        "## Importing NumPy"
      ],
      "metadata": {
        "id": "zeVQ47jrqphp"
      },
      "id": "zeVQ47jrqphp"
    },
    {
      "cell_type": "code",
      "execution_count": null,
      "id": "b6245965-d852-450a-b2d3-6464cc92e8ce",
      "metadata": {
        "id": "b6245965-d852-450a-b2d3-6464cc92e8ce"
      },
      "outputs": [],
      "source": [
        "import numpy as np"
      ]
    },
    {
      "cell_type": "markdown",
      "source": [
        "## Difference between NumPy Array and Python List"
      ],
      "metadata": {
        "id": "oXGyvZ9rsc4T"
      },
      "id": "oXGyvZ9rsc4T"
    },
    {
      "cell_type": "markdown",
      "source": [
        "### Difference between NumPy Array and list\n",
        "| Parameter | NumPy | List |\n",
        "| -- | -- | -- |\n",
        "| Data Type Storage | Can only store one type of data | Can store multiple types of data|\n",
        "| Importing Module | Needs NumPy module to be installed and imported | No need of any library |\n",
        "|Numerical Operations| Advanced and Efficient numerical operations | Less efficient and does not support advanced mathematical operations |\n",
        "|Modification|Less modifications functions available|Offers a large variety of modification functions, hence makes it more easier to modify lists.|\n",
        "|Memory Consumption|Consumes less memory|Consumes more memory|\n",
        "|Computational Time|Fast|Slower|\n",
        "|Convient|Convinent over large applications|Less convinent|"
      ],
      "metadata": {
        "id": "ew4wyOMpsvJ6"
      },
      "id": "ew4wyOMpsvJ6"
    },
    {
      "cell_type": "code",
      "execution_count": 1,
      "id": "96a2f71d-4bc8-4d50-b640-51ee22051d0e",
      "metadata": {
        "colab": {
          "base_uri": "https://localhost:8080/",
          "height": 215
        },
        "id": "96a2f71d-4bc8-4d50-b640-51ee22051d0e",
        "outputId": "f3f4ca75-cef0-4219-b15a-214de3196c39"
      },
      "outputs": [
        {
          "output_type": "error",
          "ename": "NameError",
          "evalue": "ignored",
          "traceback": [
            "\u001b[0;31m---------------------------------------------------------------------------\u001b[0m",
            "\u001b[0;31mNameError\u001b[0m                                 Traceback (most recent call last)",
            "\u001b[0;32m<ipython-input-1-8fcb5847094b>\u001b[0m in \u001b[0;36m<cell line: 1>\u001b[0;34m()\u001b[0m\n\u001b[0;32m----> 1\u001b[0;31m \u001b[0mx\u001b[0m \u001b[0;34m=\u001b[0m \u001b[0mnp\u001b[0m\u001b[0;34m.\u001b[0m\u001b[0marray\u001b[0m\u001b[0;34m(\u001b[0m\u001b[0;34m[\u001b[0m\u001b[0;36m1\u001b[0m\u001b[0;34m,\u001b[0m\u001b[0;36m2\u001b[0m\u001b[0;34m,\u001b[0m\u001b[0;36m3\u001b[0m\u001b[0;34m,\u001b[0m\u001b[0;36m4\u001b[0m\u001b[0;34m]\u001b[0m\u001b[0;34m)\u001b[0m\u001b[0;34m\u001b[0m\u001b[0;34m\u001b[0m\u001b[0m\n\u001b[0m\u001b[1;32m      2\u001b[0m \u001b[0mprint\u001b[0m\u001b[0;34m(\u001b[0m\u001b[0mx\u001b[0m\u001b[0;34m)\u001b[0m\u001b[0;34m\u001b[0m\u001b[0;34m\u001b[0m\u001b[0m\n\u001b[1;32m      3\u001b[0m \u001b[0mtype\u001b[0m\u001b[0;34m(\u001b[0m\u001b[0mx\u001b[0m\u001b[0;34m)\u001b[0m\u001b[0;34m\u001b[0m\u001b[0;34m\u001b[0m\u001b[0m\n",
            "\u001b[0;31mNameError\u001b[0m: name 'np' is not defined"
          ]
        }
      ],
      "source": [
        "x = np.array([1,2,3,4])\n",
        "print(x)\n",
        "type(x)"
      ]
    },
    {
      "cell_type": "code",
      "execution_count": null,
      "id": "73891068-4471-48d3-a8ba-c94630f06b73",
      "metadata": {
        "id": "73891068-4471-48d3-a8ba-c94630f06b73",
        "outputId": "c4fba724-5678-4109-8743-340c5765f52a"
      },
      "outputs": [
        {
          "name": "stdout",
          "output_type": "stream",
          "text": [
            "39.3 ns ± 1.18 ns per loop (mean ± std. dev. of 7 runs, 10,000,000 loops each)\n",
            "[1, 2, 3, 4]\n"
          ]
        },
        {
          "data": {
            "text/plain": [
              "list"
            ]
          },
          "execution_count": 9,
          "metadata": {},
          "output_type": "execute_result"
        }
      ],
      "source": [
        "y = [1,2,3,4]\n",
        "print(y)\n",
        "type(y)"
      ]
    },
    {
      "cell_type": "code",
      "execution_count": null,
      "id": "ec745882-1868-4ed1-b865-fb95c2103f5d",
      "metadata": {
        "id": "ec745882-1868-4ed1-b865-fb95c2103f5d",
        "outputId": "c3fdfddd-48fd-4db6-e51d-a78890c96888"
      },
      "outputs": [
        {
          "name": "stdout",
          "output_type": "stream",
          "text": [
            "819 ns ± 21.3 ns per loop (mean ± std. dev. of 7 runs, 1,000,000 loops each)\n"
          ]
        }
      ],
      "source": [
        "%timeit [int(x) for x in range(0, 9)]"
      ]
    },
    {
      "cell_type": "code",
      "execution_count": null,
      "id": "1257f9bd-d2ec-44cc-a3a7-86dd1569e65f",
      "metadata": {
        "id": "1257f9bd-d2ec-44cc-a3a7-86dd1569e65f",
        "outputId": "712d5dd0-721f-4542-9b91-91451d7fdc8c"
      },
      "outputs": [
        {
          "name": "stdout",
          "output_type": "stream",
          "text": [
            "499 ns ± 7.1 ns per loop (mean ± std. dev. of 7 runs, 1,000,000 loops each)\n"
          ]
        }
      ],
      "source": [
        "%timeit np.arange(0,9)"
      ]
    },
    {
      "cell_type": "code",
      "execution_count": null,
      "id": "50208f1b-c3e8-434f-9415-1ab2aee4ebb1",
      "metadata": {
        "id": "50208f1b-c3e8-434f-9415-1ab2aee4ebb1",
        "outputId": "f696bc59-2d1c-4428-9c0f-91a2ecbd750d"
      },
      "outputs": [
        {
          "name": "stdout",
          "output_type": "stream",
          "text": [
            "[1 2 3 4]\n"
          ]
        }
      ],
      "source": [
        "arr = np.array([1,2,3,4])\n",
        "print(arr)"
      ]
    },
    {
      "cell_type": "code",
      "execution_count": null,
      "id": "2ebb0b66-731e-46d9-8e7d-6a3a8c75307c",
      "metadata": {
        "id": "2ebb0b66-731e-46d9-8e7d-6a3a8c75307c",
        "outputId": "3ea3be11-f7de-462f-f0f2-70e40c79d9b0"
      },
      "outputs": [
        {
          "name": "stdout",
          "output_type": "stream",
          "text": [
            "[[1 2 3 4]\n",
            " [5 6 7 8]]\n",
            "2\n"
          ]
        }
      ],
      "source": [
        "arr2d = np.array([[1,2,3,4],[5,6,7,8]])\n",
        "print(arr2d)\n",
        "print(arr2d.ndim)\n",
        "\n",
        "# Error: The size of array should be same\n",
        "# arrd = np.array([[1,2,3,4],[5,6,7,]])\n",
        "# print(arrd)\n",
        "# print(arrd.ndim)"
      ]
    },
    {
      "cell_type": "code",
      "execution_count": null,
      "id": "2c2fb7f6-4e27-4280-aa73-2bfcaafd18d1",
      "metadata": {
        "id": "2c2fb7f6-4e27-4280-aa73-2bfcaafd18d1",
        "outputId": "715bd833-2611-4a3b-ea5a-02a0da934d3a"
      },
      "outputs": [
        {
          "name": "stdout",
          "output_type": "stream",
          "text": [
            "[[ 1  2  3  4]\n",
            " [ 5  6  7  8]\n",
            " [ 9 10 11 12]]\n",
            "2\n"
          ]
        }
      ],
      "source": [
        "arr3d = np.array([[1,2,3,4],[5,6,7,8],[9,10,11,12]])\n",
        "print(arr3d)\n",
        "print(arr3d.ndim)"
      ]
    },
    {
      "cell_type": "code",
      "execution_count": null,
      "id": "a64157c0-df7b-4423-8672-0151b0c13442",
      "metadata": {
        "id": "a64157c0-df7b-4423-8672-0151b0c13442",
        "outputId": "7cbb8dad-ff4a-4bd3-d52a-ee60b84bf21a"
      },
      "outputs": [
        {
          "name": "stdout",
          "output_type": "stream",
          "text": [
            "[[[[[[[[[[1 2 3 4]]]]]]]]]]\n",
            "10\n"
          ]
        }
      ],
      "source": [
        "arr10d = np.array([1,2,3,4], ndmin=10)\n",
        "print(arr10d)\n",
        "print(arr10d.ndim)"
      ]
    },
    {
      "cell_type": "markdown",
      "id": "9426e852-f0ae-4f4b-9e5a-0ffc8c606cf3",
      "metadata": {
        "id": "9426e852-f0ae-4f4b-9e5a-0ffc8c606cf3"
      },
      "source": [
        "## Special Arrays"
      ]
    },
    {
      "cell_type": "markdown",
      "id": "0bb7da54-4939-41ee-8cf3-c59901c9d666",
      "metadata": {
        "id": "0bb7da54-4939-41ee-8cf3-c59901c9d666"
      },
      "source": [
        "##### Zero Array"
      ]
    },
    {
      "cell_type": "code",
      "execution_count": null,
      "id": "c6eb8fec-b44e-4d06-9f35-d1a45e0da581",
      "metadata": {
        "id": "c6eb8fec-b44e-4d06-9f35-d1a45e0da581",
        "outputId": "3f0902c2-4b33-4466-f046-5003851d266d"
      },
      "outputs": [
        {
          "name": "stdout",
          "output_type": "stream",
          "text": [
            "[0. 0. 0. 0.]\n",
            "[[0. 0. 0. 0.]\n",
            " [0. 0. 0. 0.]\n",
            " [0. 0. 0. 0.]]\n"
          ]
        }
      ],
      "source": [
        "arr_zero = np.zeros(4)\n",
        "print(arr_zero)\n",
        "arr_zero_3x4 = np.zeros((3,4))\n",
        "print(arr_zero_3x4)"
      ]
    },
    {
      "cell_type": "markdown",
      "id": "d1fff7b1-ac83-478b-a441-0eca75bc261e",
      "metadata": {
        "id": "d1fff7b1-ac83-478b-a441-0eca75bc261e"
      },
      "source": [
        "##### Ones Array"
      ]
    },
    {
      "cell_type": "code",
      "execution_count": null,
      "id": "cf401ffd-e185-458d-93ac-35b22762b5e7",
      "metadata": {
        "id": "cf401ffd-e185-458d-93ac-35b22762b5e7",
        "outputId": "51e696b1-c2b2-497e-a812-53887303af61"
      },
      "outputs": [
        {
          "name": "stdout",
          "output_type": "stream",
          "text": [
            "[1. 1. 1. 1.]\n",
            "[[1. 1. 1. 1.]\n",
            " [1. 1. 1. 1.]\n",
            " [1. 1. 1. 1.]]\n"
          ]
        }
      ],
      "source": [
        "arr_ones = np.ones(4)\n",
        "print(arr_ones)\n",
        "arr_ones_3x4 = np.ones((3,4))\n",
        "print(arr_ones_3x4)"
      ]
    },
    {
      "cell_type": "markdown",
      "id": "5f89396e-22cb-45a1-a141-77527a3e0d72",
      "metadata": {
        "id": "5f89396e-22cb-45a1-a141-77527a3e0d72"
      },
      "source": [
        "##### Empty Array"
      ]
    },
    {
      "cell_type": "code",
      "execution_count": null,
      "id": "8fded036-e9f4-46bc-9dc6-647a65697d0b",
      "metadata": {
        "id": "8fded036-e9f4-46bc-9dc6-647a65697d0b"
      },
      "outputs": [],
      "source": [
        "arr_emp = np.empty(4)\n",
        "print(arr_emp) # Gives an array with the values from memory"
      ]
    },
    {
      "cell_type": "markdown",
      "id": "0c5eaddd-a23e-4a85-847b-134fc602c5f2",
      "metadata": {
        "id": "0c5eaddd-a23e-4a85-847b-134fc602c5f2"
      },
      "source": [
        "##### Range Array"
      ]
    },
    {
      "cell_type": "code",
      "execution_count": null,
      "id": "23e6d6f4-ad2c-447d-b651-16c2ef173f16",
      "metadata": {
        "id": "23e6d6f4-ad2c-447d-b651-16c2ef173f16",
        "outputId": "d72fb200-3b87-41a3-da11-11a5d3c30cbc"
      },
      "outputs": [
        {
          "name": "stdout",
          "output_type": "stream",
          "text": [
            "[0 1 2 3]\n"
          ]
        }
      ],
      "source": [
        "arr_rng = np.arange(4)\n",
        "print(arr_rng)"
      ]
    },
    {
      "cell_type": "markdown",
      "id": "1d1dcb45-bfd7-470b-9212-137267f3b26d",
      "metadata": {
        "id": "1d1dcb45-bfd7-470b-9212-137267f3b26d"
      },
      "source": [
        "##### Diagonal Array"
      ]
    },
    {
      "cell_type": "code",
      "execution_count": null,
      "id": "ca96b700-e68b-4c51-a799-55d4862c0125",
      "metadata": {
        "id": "ca96b700-e68b-4c51-a799-55d4862c0125",
        "outputId": "9868322f-1bfb-4924-def3-4677a964ae83"
      },
      "outputs": [
        {
          "name": "stdout",
          "output_type": "stream",
          "text": [
            "[[1. 0. 0.]\n",
            " [0. 1. 0.]\n",
            " [0. 0. 1.]]\n",
            "[[1. 0. 0. 0. 0.]\n",
            " [0. 1. 0. 0. 0.]\n",
            " [0. 0. 1. 0. 0.]]\n"
          ]
        }
      ],
      "source": [
        "arr_sq_dia = np.eye(3)\n",
        "print(arr_sq_dia)\n",
        "arr_dia = np.eye(3,5)\n",
        "print(arr_dia)"
      ]
    },
    {
      "cell_type": "markdown",
      "id": "f3966ab0-c82c-4964-b3a0-145cdb0d3d1c",
      "metadata": {
        "id": "f3966ab0-c82c-4964-b3a0-145cdb0d3d1c"
      },
      "source": [
        "##### Linspace Array"
      ]
    },
    {
      "cell_type": "code",
      "execution_count": null,
      "id": "95737271-eb32-4b3a-849f-29ae33fd8b91",
      "metadata": {
        "id": "95737271-eb32-4b3a-849f-29ae33fd8b91",
        "outputId": "5d6236b2-a449-4f47-c731-110213e4a5e6"
      },
      "outputs": [
        {
          "name": "stdout",
          "output_type": "stream",
          "text": [
            "[ 0.  5. 10. 15. 20.]\n"
          ]
        }
      ],
      "source": [
        "arr_lin = np.linspace(0, 20, num=5)\n",
        "print(arr_lin)"
      ]
    },
    {
      "cell_type": "markdown",
      "id": "93dc5838-a4a5-49f9-b1b8-a9d81843ea5a",
      "metadata": {
        "id": "93dc5838-a4a5-49f9-b1b8-a9d81843ea5a"
      },
      "source": [
        "# Random Function"
      ]
    },
    {
      "cell_type": "markdown",
      "id": "9b3e664c-b123-448b-a10c-db31a4a26793",
      "metadata": {
        "id": "9b3e664c-b123-448b-a10c-db31a4a26793"
      },
      "source": [
        "#### ```rand()``` function"
      ]
    },
    {
      "cell_type": "code",
      "execution_count": null,
      "id": "bb3a3d78-d1f2-48ac-8923-c2a96216ea41",
      "metadata": {
        "id": "bb3a3d78-d1f2-48ac-8923-c2a96216ea41",
        "outputId": "9f46c8be-1d9c-471f-b899-787208065370"
      },
      "outputs": [
        {
          "name": "stdout",
          "output_type": "stream",
          "text": [
            "[0.62050328 0.76383121 0.65421931 0.32640226]\n",
            "[0.06384331 0.92159461 0.50399012 0.91893324]\n"
          ]
        }
      ],
      "source": [
        "arr_rand_1d = np.random.rand(4)\n",
        "print(arr_rand_1d)\n",
        "arr_rand_1d = np.random.rand(4)\n",
        "print(arr_rand_1d)"
      ]
    },
    {
      "cell_type": "code",
      "execution_count": null,
      "id": "ebdf9598-8bbb-4243-8302-fc13e67344a0",
      "metadata": {
        "id": "ebdf9598-8bbb-4243-8302-fc13e67344a0",
        "outputId": "b125efc1-be61-4751-c2ea-4f7f59556171"
      },
      "outputs": [
        {
          "name": "stdout",
          "output_type": "stream",
          "text": [
            "[[0.03203744 0.60671456 0.99845666]\n",
            " [0.11844872 0.697952   0.20354869]]\n"
          ]
        }
      ],
      "source": [
        "arr_rand_2d = np.random.rand(2,3)\n",
        "print(arr_rand_2d)"
      ]
    },
    {
      "cell_type": "markdown",
      "id": "9a379e61-2213-458d-a6bf-0ce276933442",
      "metadata": {
        "id": "9a379e61-2213-458d-a6bf-0ce276933442"
      },
      "source": [
        "#### ```randn()``` function"
      ]
    },
    {
      "cell_type": "markdown",
      "id": "98fbddad-e3f9-41ec-810c-21ddf7dc1c98",
      "metadata": {
        "id": "98fbddad-e3f9-41ec-810c-21ddf7dc1c98"
      },
      "source": [
        "Positive and Negative numbers close to zero"
      ]
    },
    {
      "cell_type": "code",
      "execution_count": null,
      "id": "7cf3d0cf-6226-4e00-a742-c94bccf12c1f",
      "metadata": {
        "id": "7cf3d0cf-6226-4e00-a742-c94bccf12c1f",
        "outputId": "72df8e01-7b1e-4bdc-e90b-0a7a1f702021"
      },
      "outputs": [
        {
          "name": "stdout",
          "output_type": "stream",
          "text": [
            "[ 0.94611662  1.36514092 -0.47836704  0.27513795]\n"
          ]
        }
      ],
      "source": [
        "arr_randn_1d = np.random.randn(4)\n",
        "print(arr_randn_1d)"
      ]
    },
    {
      "cell_type": "markdown",
      "id": "37e1f67a-82e1-49e8-83aa-68d18a98f608",
      "metadata": {
        "id": "37e1f67a-82e1-49e8-83aa-68d18a98f608"
      },
      "source": [
        "#### ```ranf()``` function"
      ]
    },
    {
      "cell_type": "markdown",
      "id": "f523d41f-dd37-4a9e-bfd4-c31e5e5421bd",
      "metadata": {
        "id": "f523d41f-dd37-4a9e-bfd4-c31e5e5421bd"
      },
      "source": [
        "Generates numbers from the interval [0, 1)"
      ]
    },
    {
      "cell_type": "code",
      "execution_count": null,
      "id": "9756fe5a-4e63-4483-9920-acd59bafa2c8",
      "metadata": {
        "id": "9756fe5a-4e63-4483-9920-acd59bafa2c8",
        "outputId": "db547b3c-733d-4fba-9602-fe3106138126"
      },
      "outputs": [
        {
          "name": "stdout",
          "output_type": "stream",
          "text": [
            "[0.02904784 0.52193805 0.53373133 0.22038596]\n"
          ]
        }
      ],
      "source": [
        "arr_ranf_1d = np.random.ranf(4)\n",
        "print(arr_ranf_1d)"
      ]
    },
    {
      "cell_type": "markdown",
      "id": "ab35773c-02c2-4bb7-af57-3187f1ab8524",
      "metadata": {
        "id": "ab35773c-02c2-4bb7-af57-3187f1ab8524"
      },
      "source": [
        "#### ```ranf()``` function"
      ]
    },
    {
      "cell_type": "markdown",
      "id": "0aaaa5a4-b190-447e-a02d-6973ccbb1412",
      "metadata": {
        "id": "0aaaa5a4-b190-447e-a02d-6973ccbb1412"
      },
      "source": [
        "Generates a random number between given range"
      ]
    },
    {
      "cell_type": "code",
      "execution_count": null,
      "id": "e610d5aa-66ef-4e9b-83b6-b98e0bc728bc",
      "metadata": {
        "id": "e610d5aa-66ef-4e9b-83b6-b98e0bc728bc",
        "outputId": "e32d8589-f35a-4aae-9c76-905628226ad6"
      },
      "outputs": [
        {
          "name": "stdout",
          "output_type": "stream",
          "text": [
            "[6 7 3 6 3 7 3]\n"
          ]
        }
      ],
      "source": [
        "arr_randint_1d = np.random.randint(3, 9, 7) #(min, max, total_values)\n",
        "print(arr_randint_1d)"
      ]
    },
    {
      "cell_type": "markdown",
      "id": "3022e5b8-8415-448c-8075-16dbd0328c18",
      "metadata": {
        "id": "3022e5b8-8415-448c-8075-16dbd0328c18"
      },
      "source": [
        "## Datatypes in NumPy Array"
      ]
    }
  ],
  "metadata": {
    "kernelspec": {
      "display_name": "Python 3 (ipykernel)",
      "language": "python",
      "name": "python3"
    },
    "language_info": {
      "codemirror_mode": {
        "name": "ipython",
        "version": 3
      },
      "file_extension": ".py",
      "mimetype": "text/x-python",
      "name": "python",
      "nbconvert_exporter": "python",
      "pygments_lexer": "ipython3",
      "version": "3.11.6"
    },
    "colab": {
      "provenance": []
    }
  },
  "nbformat": 4,
  "nbformat_minor": 5
}